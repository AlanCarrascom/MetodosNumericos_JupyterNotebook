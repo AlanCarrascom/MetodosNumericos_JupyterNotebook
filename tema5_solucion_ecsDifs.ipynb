{
 "cells": [
  {
   "attachments": {},
   "cell_type": "markdown",
   "metadata": {},
   "source": [
    "# Solución Numérica de Ecuaciones y Sistemas de Ecuaciones Diferenciales"
   ]
  },
  {
   "attachments": {},
   "cell_type": "markdown",
   "metadata": {},
   "source": [
    "En este apunte de jupyter notebooks se documenta y explican los métodos Euler y Runge-Kutta de cuarto orden. Los cuales son dos métodos numéricos paso a paso que resultan particularmente útiles para encontrar soluciones a ecuaciones y sistemas de ecuaciones diferenciales.\n",
    "\n",
    "La estructura de este apunte interactivo es que da la explicación de la teoría necesaria para comprender estos métodos y posteriormente se explica la implementación de los métodos en Python. Primero se explica el método de Euler, que cronológicamente fue el primero en ser desarrollado por el matemático suizo Leonhard Euler. Después, se explica el método Runge-Kutta de cuarto orden, desarrollado por los matemáticos Carl Runge (alemán) y Martin Kutta (polaco), que fue posterior al método Euler y es una mejora y una generalización de dicho método."
   ]
  },
  {
   "attachments": {},
   "cell_type": "markdown",
   "metadata": {},
   "source": [
    "Para poder implementar los métodos numéricos en Python es necesario importar las bibliotecas necesarias para poder realizar las operaciones, como la derivada y la exponenciación."
   ]
  },
  {
   "cell_type": "code",
   "execution_count": null,
   "metadata": {
    "vscode": {
     "languageId": "plaintext"
    }
   },
   "outputs": [],
   "source": [
    "import numpy as np\n",
    "import math\n",
    "import matplotlib.pyplot as plt"
   ]
  },
  {
   "attachments": {},
   "cell_type": "markdown",
   "metadata": {},
   "source": [
    "# Método del Polinomio de Taylor"
   ]
  },
  {
   "cell_type": "code",
   "execution_count": null,
   "metadata": {
    "vscode": {
     "languageId": "plaintext"
    }
   },
   "outputs": [],
   "source": [
    "def P_T(x):\n",
    "    return (7/4)*x**3-(3/8)*x**2+(9/16)*x+(19/32)\n",
    "h=0.1\n",
    "n=6\n",
    "\n",
    "x=np.zeros(n)\n",
    "y=np.zeros(n)\n",
    "\n",
    "x[0]=0.5\n",
    "y[0]=1.0\n",
    "print('{:^12} {:^10}'.format(' x ', 'y_aprox'))\n",
    "print('{:10.3f} {:10.5f}'.format(x[0], y[0]))\n",
    "for i in range(1,n):\n",
    "    x[i]=x[i-1]+h\n",
    "    y[i]=P_T(x[i])\n",
    "    print('{:10.3f} {:10.5f}'.format(x[i], y[i]))\n",
    "plt.scatter(x,y, color='black') #puntos para la solución aproximada\n",
    "plt.plot(x,y, \"red\") #línea continua para la solución aproximada"
   ]
  },
  {
   "attachments": {},
   "cell_type": "markdown",
   "metadata": {},
   "source": [
    "# Método de Euler"
   ]
  },
  {
   "cell_type": "code",
   "execution_count": null,
   "metadata": {
    "vscode": {
     "languageId": "plaintext"
    }
   },
   "outputs": [],
   "source": [
    "def f(x,y):\n",
    "  return x+2*x*y\n",
    "def S(x):\n",
    "  return 1.1682*math.exp(x**2)-0.5\n",
    "\n",
    "n=6\n",
    "h=0.1\n",
    "\n",
    "x=np.zeros(n)\n",
    "y=np.zeros(n)\n",
    "yS=np.zeros(n)\n",
    "\n",
    "\n",
    "x[0]=0.5\n",
    "y[0]=1\n",
    "yS[0]=1\n",
    "\n",
    "\n",
    "print(x[0],y[0],yS[0])\n",
    "for i in range(1,n):\n",
    "  x[i]=x[i-1]+h\n",
    "  y[i]=y[i-1]+h*f(x[i-1],y[i-1])\n",
    "  yS[i]=S(x[i])\n",
    "  print(round(x[i],5),round(y[i],5),round(yS[i],5))\n",
    "plt.scatter(x,y)\n",
    "plt.plot(x,yS, color='red')"
   ]
  }
 ],
 "metadata": {
  "language_info": {
   "name": "python"
  },
  "orig_nbformat": 4
 },
 "nbformat": 4,
 "nbformat_minor": 2
}
